{
 "cells": [
  {
   "cell_type": "code",
   "execution_count": 12,
   "id": "dd0c0ca5",
   "metadata": {},
   "outputs": [
    {
     "name": "stdout",
     "output_type": "stream",
     "text": [
      "v=4/3*pi*r**3\n",
      "r=5\n",
      "pi=3.14\n"
     ]
    }
   ],
   "source": [
    "v=\"v=4/3*pi*r**3\" #v-объем сферы\n",
    "print(v)\n",
    "r=\"r=5\" #r-радиус\n",
    "print(r)\n",
    "pi=\"pi=3.14\"\n",
    "print(pi)\n"
   ]
  },
  {
   "cell_type": "code",
   "execution_count": 4,
   "id": "9e4d5c20",
   "metadata": {},
   "outputs": [
    {
     "data": {
      "text/plain": [
       "523.3333333333334"
      ]
     },
     "execution_count": 4,
     "metadata": {},
     "output_type": "execute_result"
    }
   ],
   "source": [
    "4/3*3.14*5**3"
   ]
  },
  {
   "cell_type": "code",
   "execution_count": 5,
   "id": "7e76c72d",
   "metadata": {},
   "outputs": [],
   "source": [
    "v=\"523.3333333333334\""
   ]
  },
  {
   "cell_type": "code",
   "execution_count": 17,
   "id": "fad0ed42",
   "metadata": {},
   "outputs": [
    {
     "name": "stdout",
     "output_type": "stream",
     "text": [
      "v=4/3*pi*r**3\n"
     ]
    }
   ],
   "source": [
    "print(v)"
   ]
  },
  {
   "cell_type": "code",
   "execution_count": null,
   "id": "7dd2e503",
   "metadata": {},
   "outputs": [],
   "source": []
  }
 ],
 "metadata": {
  "kernelspec": {
   "display_name": "Python 3",
   "language": "python",
   "name": "python3"
  },
  "language_info": {
   "codemirror_mode": {
    "name": "ipython",
    "version": 3
   },
   "file_extension": ".py",
   "mimetype": "text/x-python",
   "name": "python",
   "nbconvert_exporter": "python",
   "pygments_lexer": "ipython3",
   "version": "3.8.8"
  }
 },
 "nbformat": 4,
 "nbformat_minor": 5
}
